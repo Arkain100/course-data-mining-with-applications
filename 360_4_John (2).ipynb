{
  "nbformat": 4,
  "nbformat_minor": 0,
  "metadata": {
    "colab": {
      "provenance": []
    },
    "kernelspec": {
      "name": "python3",
      "display_name": "Python 3"
    },
    "language_info": {
      "name": "python"
    }
  },
  "cells": [
    {
      "cell_type": "markdown",
      "source": [
        "For this homework assignment, you are to submit a **single** ipynb file. Use the provided ipynb file to keep the same formatting for each question. In the ipynb file name, replace \"NAME\" with your first name. Unless otherwise specified, present your code as well as the output in your report. It is the student's responsibility to make sure the ipynb file runs when submitted. This assignment is worth 45 points."
      ],
      "metadata": {
        "id": "5SglSZEZ4yFk"
      }
    },
    {
      "cell_type": "markdown",
      "source": [
        "# 1: Investment in an Asset *(20 points)*"
      ],
      "metadata": {
        "id": "LAEhGt8bJdy9"
      }
    },
    {
      "cell_type": "code",
      "source": [
        "import numpy as np\n",
        "from sklearn.model_selection import train_test_split\n",
        "import matplotlib.pyplot as plt"
      ],
      "metadata": {
        "id": "hlTBGrwsLwBW"
      },
      "execution_count": null,
      "outputs": []
    },
    {
      "cell_type": "markdown",
      "source": [
        "Suppose you were considering investing in a certain asset. The following data set represents the value of the asset, $Y$ after investing in the asset for $X$ years."
      ],
      "metadata": {
        "id": "YfzJP95M_ne3"
      }
    },
    {
      "cell_type": "code",
      "execution_count": null,
      "metadata": {
        "id": "rJoSlpLI4qy8"
      },
      "outputs": [],
      "source": [
        "investTime = np.array([ 3.36586597,  3.23921259,  2.4781461 ,  2.50790942,  2.68971237,\n",
        "        2.44789729,  3.48136317,  3.67568488,  2.98003991,  3.8858312 ,\n",
        "        2.81132528,  4.02257592,  3.29409267,  5.67622882,  3.79074341,\n",
        "        3.08321096,  4.89144501,  4.13089308,  3.55236716,  5.02939281,\n",
        "        4.14701048,  3.85743279,  3.66048533,  4.49883429,  4.49601889,\n",
        "        4.83979737,  4.27942084,  4.06971671,  7.19601141,  4.81837706,\n",
        "        6.10996106,  5.23649655,  5.65481434,  5.70110519,  6.04725281,\n",
        "        5.31525845,  5.34281631,  5.1981681 ,  5.1888987 ,  5.61653177,\n",
        "        6.80549857,  5.1583718 ,  6.01496508,  5.09802561,  6.15482513,\n",
        "        5.34381707,  6.89572657,  5.93484702,  7.02227233,  6.01048605,\n",
        "        6.54085157,  5.89952108,  6.14999396,  6.02057668,  6.32049351,\n",
        "        7.20310525,  5.97935271,  6.2475493 ,  7.88513305,  6.22788273,\n",
        "        6.58245701,  7.73422054,  8.10723584,  7.1210443 ,  7.19287543,\n",
        "        7.84255344,  7.04237385,  7.48257908,  7.17674753,  9.05803178,\n",
        "        8.05066415,  8.7648031 ,  7.82006609,  7.8108774 ,  8.49408789,\n",
        "        7.94599379, 10.16441873,  7.87146858,  9.17816441,  9.42412174,\n",
        "        9.497948  ,  7.88395113,  7.81542844,  8.40617906,  8.02800388,\n",
        "        8.54382383,  8.9145535 ,  8.30061627,  8.29034687,  9.82869894,\n",
        "        9.35479988,  9.78893984, 10.70899123,  8.87044938,  8.93376182,\n",
        "       10.49931728,  9.7078633 , 11.01838272, 10.03816079, 10.1629043 ])\n",
        "investValue = np.array([23.73751447, 21.25828863, 25.74330919, 26.86087903, 24.58937801,\n",
        "       25.40026727, 26.4221611 , 26.556491  , 29.52502896, 30.54633904,\n",
        "       28.10641246, 29.73187991, 31.10984441, 31.38480731, 32.95844562,\n",
        "       30.57057363, 31.46807661, 33.72695148, 36.0391119 , 35.07210657,\n",
        "       35.73582041, 39.60499192, 38.62460644, 40.94909355, 39.33430394,\n",
        "       41.42002027, 39.09848032, 39.49424094, 42.31115162, 43.04334674,\n",
        "       43.41071629, 44.43285776, 42.94885201, 44.76909964, 46.57859127,\n",
        "       45.10914783, 47.17883658, 47.89079844, 48.52527255, 52.08118531,\n",
        "       49.45112469, 50.3210147 , 50.95065023, 52.97557072, 54.37860545,\n",
        "       54.15414857, 54.13683795, 56.40020237, 54.89511752, 56.41948513,\n",
        "       59.73496602, 60.39288536, 58.36295087, 57.84400697, 59.07436735,\n",
        "       58.68735279, 62.09962423, 63.75107415, 61.89527149, 64.89808673,\n",
        "       65.4890528 , 67.38818354, 64.14537763, 66.85816187, 66.59801521,\n",
        "       65.89010171, 69.91256581, 66.87098202, 71.7500915 , 71.99591694,\n",
        "       70.57978571, 73.47829058, 72.92393384, 70.92817482, 76.02840787,\n",
        "       74.79112489, 74.51285133, 74.12606386, 78.51361064, 78.28220769,\n",
        "       79.44417692, 78.74666321, 78.11589057, 81.18465083, 79.93884849,\n",
        "       81.20518261, 80.91643879, 83.82503195, 84.50654163, 82.48995684,\n",
        "       83.69794777, 87.90575785, 86.16170412, 88.21795488, 86.85866705,\n",
        "       89.42525273, 89.39686274, 91.00968856, 92.6150099 , 91.45145656])\n",
        "\n",
        "investTime=investTime.reshape(-1,1)"
      ]
    },
    {
      "cell_type": "markdown",
      "source": [
        "Split this data into a training set and a test set. Express the percentage of data used as a test and plot the points as a scatter plot, showing the training and test sets as different colors. *(3 points)*"
      ],
      "metadata": {
        "id": "4qT_noLlA909"
      }
    },
    {
      "cell_type": "code",
      "source": [
        "(X_train, X_test, Y_train, Y_test)=train_test_split(investTime,investValue)\n",
        "print(\"Percentage used as test:\", Y_test.size/investValue.size*100,\"%\")\n",
        "\n",
        "plt.scatter(X_train,Y_train, color=\"Blue\")\n",
        "plt.scatter(X_test,Y_test, color=\"Red\")"
      ],
      "metadata": {
        "id": "dLYxt-n7Bo3V",
        "colab": {
          "base_uri": "https://localhost:8080/",
          "height": 466
        },
        "outputId": "eb250fb2-8f10-4a61-d869-197a1538dfe9"
      },
      "execution_count": null,
      "outputs": [
        {
          "output_type": "stream",
          "name": "stdout",
          "text": [
            "Percentage used as test: 25.0 %\n"
          ]
        },
        {
          "output_type": "execute_result",
          "data": {
            "text/plain": [
              "<matplotlib.collections.PathCollection at 0x785cc3f49f90>"
            ]
          },
          "metadata": {},
          "execution_count": 24
        },
        {
          "output_type": "display_data",
          "data": {
            "text/plain": [
              "<Figure size 640x480 with 1 Axes>"
            ],
            "image/png": "[encoded data removed]"
          },
          "metadata": {}
        }
      ]
    },
    {
      "cell_type": "markdown",
      "source": [
        "First, build 3 models: Ordinary Linear Regression, Ridge Regression, and Lasso Regression. You should be providing the training and testing accuracies from your models. Then build more models by investigating different values of $\\alpha$ in both Ridge and Lasso to find the best accuracy on the test and training data sets. Explain why you chose these certain values of $\\alpha$. Plot the original three models on your scatter plot you made earlier. *(12 points)*"
      ],
      "metadata": {
        "id": "qgVZ5zOWCS4-"
      }
    },
    {
      "cell_type": "code",
      "source": [
        "from re import L\n",
        "from sklearn.linear_model import Ridge\n",
        "from sklearn.linear_model import Lasso\n",
        "from sklearn.linear_model import LinearRegression\n",
        "ridged=Ridge().fit(X_train,Y_train)\n",
        "lasso=Lasso().fit(X_train,Y_train)\n",
        "lined=LinearRegression().fit(X_train,Y_train)\n",
        "\n",
        "print(ridged.score(X_train,Y_train))\n",
        "print(lasso.score(X_train,Y_train))\n",
        "print(ridged.score(X_train,Y_train))\n",
        "print(lasso.score(X_train,Y_train))\n",
        "print(\"\")\n",
        "\n",
        "\n",
        "rregress1=Ridge(5).fit(X_train,Y_train)\n",
        "lregress1=Lasso(5).fit(X_train,Y_train)\n",
        "print(rregress1.score(X_train,Y_train))\n",
        "print(lregress1.score(X_train,Y_train))\n",
        "print(rregress1.score(X_test,Y_test))\n",
        "print(lregress1.score(X_test,Y_test))\n",
        "print(\"\")\n",
        "\n",
        "rregress2=Ridge(0.5).fit(X_train,Y_train)\n",
        "lregress2=Lasso(0.5).fit(X_train,Y_train)\n",
        "print(rregress2.score(X_train,Y_train))\n",
        "print(lregress2.score(X_train,Y_train))\n",
        "print(rregress2.score(X_test,Y_test))\n",
        "print(lregress2.score(X_test,Y_test))\n",
        "print(\"\")\n",
        "\n",
        "rregress3=Ridge(0.05).fit(X_train,Y_train)\n",
        "lregress3=Lasso(0.05).fit(X_train,Y_train)\n",
        "print(rregress3.score(X_train,Y_train))\n",
        "print(lregress3.score(X_train,Y_train))\n",
        "print(rregress3.score(X_test,Y_test))\n",
        "print(lregress3.score(X_test,Y_test))\n",
        "\n",
        "\n"
      ],
      "metadata": {
        "id": "Sk8VShYxDDLU",
        "colab": {
          "base_uri": "https://localhost:8080/"
        },
        "outputId": "ebc773c6-586c-4657-e78d-16508ae81cb4"
      },
      "execution_count": null,
      "outputs": [
        {
          "output_type": "stream",
          "name": "stdout",
          "text": [
            "0.8904528490342744\n",
            "0.8899057132822039\n",
            "0.8904528490342744\n",
            "0.8899057132822039\n",
            "\n",
            "0.8902767105425997\n",
            "0.8765940227884037\n",
            "0.9195888313893791\n",
            "0.9099822832477878\n",
            "\n",
            "0.890458482075032\n",
            "0.8903217036101352\n",
            "0.9191422827781571\n",
            "0.919544157560791\n",
            "\n",
            "0.8904603481535387\n",
            "0.8904589804183525\n",
            "0.9190786344148905\n",
            "0.9191324417476306\n"
          ]
        }
      ]
    },
    {
      "cell_type": "code",
      "source": [
        "plt.scatter(X_train,Y_train, color=\"Blue\")\n",
        "plt.scatter(X_test,Y_test, color=\"Red\")\n",
        "plt.plot(investTime, lined.coef_*investTime+lined.intercept_,\"black\")\n",
        "plt.plot(investTime, ridged.coef_*investTime+ridged.intercept_,color=\"green\")\n",
        "plt.plot(investTime, lasso.coef_*investTime+lasso.intercept_, color=\"orange\")"
      ],
      "metadata": {
        "id": "hfHjIurbGo94",
        "colab": {
          "base_uri": "https://localhost:8080/",
          "height": 448
        },
        "outputId": "b3e7fa27-69ca-43f8-e82c-be36603e7ee0"
      },
      "execution_count": null,
      "outputs": [
        {
          "output_type": "execute_result",
          "data": {
            "text/plain": [
              "[<matplotlib.lines.Line2D at 0x785cbc79e1d0>]"
            ]
          },
          "metadata": {},
          "execution_count": 57
        },
        {
          "output_type": "display_data",
          "data": {
            "text/plain": [
              "<Figure size 640x480 with 1 Axes>"
            ],
            "image/png": "[encoded data removed]"
          },
          "metadata": {}
        }
      ]
    },
    {
      "cell_type": "markdown",
      "source": [
        "The best alpha for ridge regression is 5 (rregress1) since it has the highest test and training accuracy. The best alpha for lasso regression is 0.5 (lregress2) since it has the highest test and training accuracy"
      ],
      "metadata": {
        "id": "_a16JgMOT7jX"
      }
    },
    {
      "cell_type": "markdown",
      "source": [
        "With your chosen model, predict the value of an asset after investing it for 12 years. Does your prediction seem reasonable? *(2 points)*"
      ],
      "metadata": {
        "id": "ke42o02GjeTd"
      }
    },
    {
      "cell_type": "code",
      "source": [
        "rregress1.coef_*12+rregress1.intercept_"
      ],
      "metadata": {
        "id": "KvHU0QxZjsJP",
        "colab": {
          "base_uri": "https://localhost:8080/"
        },
        "outputId": "7f595476-7c35-4144-d4f4-7f4b2a91f616"
      },
      "execution_count": null,
      "outputs": [
        {
          "output_type": "execute_result",
          "data": {
            "text/plain": [
              "array([105.30850838])"
            ]
          },
          "metadata": {},
          "execution_count": 53
        }
      ]
    },
    {
      "cell_type": "code",
      "source": [
        "# check\n",
        "plt.scatter(X_train,Y_train, color=\"Blue\")\n",
        "plt.scatter(X_test,Y_test, color=\"Red\")\n",
        "plt.plot(investTime, lined.coef_*investTime+lined.intercept_,\"black\")\n",
        "plt.plot(investTime, ridged.coef_*investTime+ridged.intercept_,color=\"green\")\n",
        "plt.plot(investTime, lasso.coef_*investTime+lasso.intercept_, color=\"orange\")\n",
        "plt.scatter(12,105.3085, color=\"black\")"
      ],
      "metadata": {
        "colab": {
          "base_uri": "https://localhost:8080/",
          "height": 448
        },
        "id": "exlQlXX6bHVm",
        "outputId": "5a15fcfc-43ad-4846-d95a-d2464d278941"
      },
      "execution_count": null,
      "outputs": [
        {
          "output_type": "execute_result",
          "data": {
            "text/plain": [
              "<matplotlib.collections.PathCollection at 0x785cbc95df10>"
            ]
          },
          "metadata": {},
          "execution_count": 58
        },
        {
          "output_type": "display_data",
          "data": {
            "text/plain": [
              "<Figure size 640x480 with 1 Axes>"
            ],
            "image/png": "[encoded data removed]"
          },
          "metadata": {}
        }
      ]
    },
    {
      "cell_type": "markdown",
      "source": [
        "It appears reasonable since it follows a similar path as the rest of the data."
      ],
      "metadata": {
        "id": "wTcOrAOLbPWg"
      }
    },
    {
      "cell_type": "markdown",
      "source": [
        "Compute Lasso with $\\alpha=100$. Is this an example of overfitting or underfitting? *(3 points)*"
      ],
      "metadata": {
        "id": "Qx4TRODhIfd4"
      }
    },
    {
      "cell_type": "code",
      "source": [
        "lasregress=Lasso(100).fit(X_train,Y_train)\n",
        "print(lasregress.score(X_train,Y_train))\n",
        "print(lasregress.score(X_test,Y_test))"
      ],
      "metadata": {
        "id": "q_wD5gJiIjh4",
        "colab": {
          "base_uri": "https://localhost:8080/"
        },
        "outputId": "f8eed713-4c41-4038-b912-c158687c34a6"
      },
      "execution_count": null,
      "outputs": [
        {
          "output_type": "stream",
          "name": "stdout",
          "text": [
            "0.0\n",
            "-0.0037506486223206625\n"
          ]
        }
      ]
    },
    {
      "cell_type": "markdown",
      "source": [
        "This is underfitting."
      ],
      "metadata": {
        "id": "qhigg4groMVa"
      }
    },
    {
      "cell_type": "markdown",
      "source": [
        "# 2: Bottles *(15 points)*"
      ],
      "metadata": {
        "id": "-e7wtzPrVJVi"
      }
    },
    {
      "cell_type": "markdown",
      "source": [
        "The CalCOFI data set represents the longest (1949-present) and most complete (more than 50,000 sampling stations) time series of oceanographic and larval fish data in the world.\n",
        "\n",
        "We want to be able to answer the following: Is there a relationship between water salinity & water temperature? Can you predict the water temperature based on salinity?\n",
        "\n",
        "First, let us load the csv file into Python. *(2 points)*"
      ],
      "metadata": {
        "id": "AMdBWR-YVZg8"
      }
    },
    {
      "cell_type": "code",
      "source": [
        "# You will need to replace \"YOUR_PATH\" with the path to your csv file relative to where you ipynb file is saved\n",
        "from google.colab import files\n",
        "import pandas as pd\n",
        "import os\n",
        "files.upload()\n",
        "print(os.path.exists(r\"C:\\Users\\14173\\Downloads\\New folder\\bottle.csv\"))\n",
        "# You will need to replace \"YOUR_PATH\" with the path to your csv file relative to where you ipynb file is saved\n",
        "bottles = pd.read_csv(\"bottle.csv\")"
      ],
      "metadata": {
        "id": "QAKB7raMVZR-",
        "colab": {
          "base_uri": "https://localhost:8080/",
          "height": 128
        },
        "outputId": "47bd1020-2b26-4085-84e5-c8d25a277f4b"
      },
      "execution_count": null,
      "outputs": [
        {
          "output_type": "display_data",
          "data": {
            "text/plain": [
              "<IPython.core.display.HTML object>"
            ],
            "text/html": [
              "\n",
              "     <input type=\"file\" id=\"files-4a8e8a82-2426-4bf5-9600-4f67c32c027c\" name=\"files[]\" multiple disabled\n",
              "        style=\"border:none\" />\n",
              "     <output id=\"result-4a8e8a82-2426-4bf5-9600-4f67c32c027c\">\n",
              "      Upload widget is only available when the cell has been executed in the\n",
              "      current browser session. Please rerun this cell to enable.\n",
              "      </output>\n",
              "      <script>// Copyright 2017 Google LLC\n",
              "//\n",
              "// Licensed under the Apache License, Version 2.0 (the \"License\");\n",
              "// you may not use this file except in compliance with the License.\n",
              "// You may obtain a copy of the License at\n",
              "//\n",
              "//      http://www.apache.org/licenses/LICENSE-2.0\n",
              "//\n",
              "// Unless required by applicable law or agreed to in writing, software\n",
              "// distributed under the License is distributed on an \"AS IS\" BASIS,\n",
              "// WITHOUT WARRANTIES OR CONDITIONS OF ANY KIND, either express or implied.\n",
              "// See the License for the specific language governing permissions and\n",
              "// limitations under the License.\n",
              "\n",
              "/**\n",
              " * @fileoverview Helpers for google.colab Python module.\n",
              " */\n",
              "(function(scope) {\n",
              "function span(text, styleAttributes = {}) {\n",
              "  const element = document.createElement('span');\n",
              "  element.textContent = text;\n",
              "  for (const key of Object.keys(styleAttributes)) {\n",
              "    element.style[key] = styleAttributes[key];\n",
              "  }\n",
              "  return element;\n",
              "}\n",
              "\n",
              "// Max number of bytes which will be uploaded at a time.\n",
              "const MAX_PAYLOAD_SIZE = 100 * 1024;\n",
              "\n",
              "function _uploadFiles(inputId, outputId) {\n",
              "  const steps = uploadFilesStep(inputId, outputId);\n",
              "  const outputElement = document.getElementById(outputId);\n",
              "  // Cache steps on the outputElement to make it available for the next call\n",
              "  // to uploadFilesContinue from Python.\n",
              "  outputElement.steps = steps;\n",
              "\n",
              "  return _uploadFilesContinue(outputId);\n",
              "}\n",
              "\n",
              "// This is roughly an async generator (not supported in the browser yet),\n",
              "// where there are multiple asynchronous steps and the Python side is going\n",
              "// to poll for completion of each step.\n",
              "// This uses a Promise to block the python side on completion of each step,\n",
              "// then passes the result of the previous step as the input to the next step.\n",
              "function _uploadFilesContinue(outputId) {\n",
              "  const outputElement = document.getElementById(outputId);\n",
              "  const steps = outputElement.steps;\n",
              "\n",
              "  const next = steps.next(outputElement.lastPromiseValue);\n",
              "  return Promise.resolve(next.value.promise).then((value) => {\n",
              "    // Cache the last promise value to make it available to the next\n",
              "    // step of the generator.\n",
              "    outputElement.lastPromiseValue = value;\n",
              "    return next.value.response;\n",
              "  });\n",
              "}\n",
              "\n",
              "/**\n",
              " * Generator function which is called between each async step of the upload\n",
              " * process.\n",
              " * @param {string} inputId Element ID of the input file picker element.\n",
              " * @param {string} outputId Element ID of the output display.\n",
              " * @return {!Iterable<!Object>} Iterable of next steps.\n",
              " */\n",
              "function* uploadFilesStep(inputId, outputId) {\n",
              "  const inputElement = document.getElementById(inputId);\n",
              "  inputElement.disabled = false;\n",
              "\n",
              "  const outputElement = document.getElementById(outputId);\n",
              "  outputElement.innerHTML = '';\n",
              "\n",
              "  const pickedPromise = new Promise((resolve) => {\n",
              "    inputElement.addEventListener('change', (e) => {\n",
              "      resolve(e.target.files);\n",
              "    });\n",
              "  });\n",
              "\n",
              "  const cancel = document.createElement('button');\n",
              "  inputElement.parentElement.appendChild(cancel);\n",
              "  cancel.textContent = 'Cancel upload';\n",
              "  const cancelPromise = new Promise((resolve) => {\n",
              "    cancel.onclick = () => {\n",
              "      resolve(null);\n",
              "    };\n",
              "  });\n",
              "\n",
              "  // Wait for the user to pick the files.\n",
              "  const files = yield {\n",
              "    promise: Promise.race([pickedPromise, cancelPromise]),\n",
              "    response: {\n",
              "      action: 'starting',\n",
              "    }\n",
              "  };\n",
              "\n",
              "  cancel.remove();\n",
              "\n",
              "  // Disable the input element since further picks are not allowed.\n",
              "  inputElement.disabled = true;\n",
              "\n",
              "  if (!files) {\n",
              "    return {\n",
              "      response: {\n",
              "        action: 'complete',\n",
              "      }\n",
              "    };\n",
              "  }\n",
              "\n",
              "  for (const file of files) {\n",
              "    const li = document.createElement('li');\n",
              "    li.append(span(file.name, {fontWeight: 'bold'}));\n",
              "    li.append(span(\n",
              "        `(${file.type || 'n/a'}) - ${file.size} bytes, ` +\n",
              "        `last modified: ${\n",
              "            file.lastModifiedDate ? file.lastModifiedDate.toLocaleDateString() :\n",
              "                                    'n/a'} - `));\n",
              "    const percent = span('0% done');\n",
              "    li.appendChild(percent);\n",
              "\n",
              "    outputElement.appendChild(li);\n",
              "\n",
              "    const fileDataPromise = new Promise((resolve) => {\n",
              "      const reader = new FileReader();\n",
              "      reader.onload = (e) => {\n",
              "        resolve(e.target.result);\n",
              "      };\n",
              "      reader.readAsArrayBuffer(file);\n",
              "    });\n",
              "    // Wait for the data to be ready.\n",
              "    let fileData = yield {\n",
              "      promise: fileDataPromise,\n",
              "      response: {\n",
              "        action: 'continue',\n",
              "      }\n",
              "    };\n",
              "\n",
              "    // Use a chunked sending to avoid message size limits. See b/62115660.\n",
              "    let position = 0;\n",
              "    do {\n",
              "      const length = Math.min(fileData.byteLength - position, MAX_PAYLOAD_SIZE);\n",
              "      const chunk = new Uint8Array(fileData, position, length);\n",
              "      position += length;\n",
              "\n",
              "      const base64 = btoa(String.fromCharCode.apply(null, chunk));\n",
              "      yield {\n",
              "        response: {\n",
              "          action: 'append',\n",
              "          file: file.name,\n",
              "          data: base64,\n",
              "        },\n",
              "      };\n",
              "\n",
              "      let percentDone = fileData.byteLength === 0 ?\n",
              "          100 :\n",
              "          Math.round((position / fileData.byteLength) * 100);\n",
              "      percent.textContent = `${percentDone}% done`;\n",
              "\n",
              "    } while (position < fileData.byteLength);\n",
              "  }\n",
              "\n",
              "  // All done.\n",
              "  yield {\n",
              "    response: {\n",
              "      action: 'complete',\n",
              "    }\n",
              "  };\n",
              "}\n",
              "\n",
              "scope.google = scope.google || {};\n",
              "scope.google.colab = scope.google.colab || {};\n",
              "scope.google.colab._files = {\n",
              "  _uploadFiles,\n",
              "  _uploadFilesContinue,\n",
              "};\n",
              "})(self);\n",
              "</script> "
            ]
          },
          "metadata": {}
        },
        {
          "output_type": "stream",
          "name": "stdout",
          "text": [
            "Saving bottle.csv to bottle.csv\n",
            "False\n"
          ]
        },
        {
          "output_type": "stream",
          "name": "stderr",
          "text": [
            "<ipython-input-5-cffa30eab231>:8: DtypeWarning: Columns (47,73) have mixed types. Specify dtype option on import or set low_memory=False.\n",
            "  bottles = pd.read_csv(\"bottle.csv\")\n"
          ]
        }
      ]
    },
    {
      "cell_type": "code",
      "source": [
        "bottles"
      ],
      "metadata": {
        "id": "Yd160mACW9c6",
        "colab": {
          "base_uri": "https://localhost:8080/",
          "height": 805
        },
        "outputId": "bc8bf7ff-0b6b-4bed-c1cf-bb39539b301e"
      },
      "execution_count": null,
      "outputs": [
        {
          "output_type": "execute_result",
          "data": {
            "text/plain": [
              "        Cst_Cnt  Btl_Cnt       Sta_ID                                Depth_ID  \\\n",
              "0             1        1  054.0 056.0  19-4903CR-HY-060-0930-05400560-0000A-3   \n",
              "1             1        2  054.0 056.0  19-4903CR-HY-060-0930-05400560-0008A-3   \n",
              "2             1        3  054.0 056.0  19-4903CR-HY-060-0930-05400560-0010A-7   \n",
              "3             1        4  054.0 056.0  19-4903CR-HY-060-0930-05400560-0019A-3   \n",
              "4             1        5  054.0 056.0  19-4903CR-HY-060-0930-05400560-0020A-7   \n",
              "...         ...      ...          ...                                     ...   \n",
              "864858    34404   864859  093.4 026.4  20-1611SR-MX-310-2239-09340264-0000A-7   \n",
              "864859    34404   864860  093.4 026.4  20-1611SR-MX-310-2239-09340264-0002A-3   \n",
              "864860    34404   864861  093.4 026.4  20-1611SR-MX-310-2239-09340264-0005A-3   \n",
              "864861    34404   864862  093.4 026.4  20-1611SR-MX-310-2239-09340264-0010A-3   \n",
              "864862    34404   864863  093.4 026.4  20-1611SR-MX-310-2239-09340264-0015A-3   \n",
              "\n",
              "        Depthm  T_degC   Salnty  O2ml_L    STheta   O2Sat  ...  R_PHAEO  \\\n",
              "0            0  10.500  33.4400     NaN  25.64900     NaN  ...      NaN   \n",
              "1            8  10.460  33.4400     NaN  25.65600     NaN  ...      NaN   \n",
              "2           10  10.460  33.4370     NaN  25.65400     NaN  ...      NaN   \n",
              "3           19  10.450  33.4200     NaN  25.64300     NaN  ...      NaN   \n",
              "4           20  10.450  33.4210     NaN  25.64300     NaN  ...      NaN   \n",
              "...        ...     ...      ...     ...       ...     ...  ...      ...   \n",
              "864858       0  18.744  33.4083   5.805  23.87055  108.74  ...     0.18   \n",
              "864859       2  18.744  33.4083   5.805  23.87072  108.74  ...     0.18   \n",
              "864860       5  18.692  33.4150   5.796  23.88911  108.46  ...     0.18   \n",
              "864861      10  18.161  33.4062   5.816  24.01426  107.74  ...     0.31   \n",
              "864862      15  17.533  33.3880   5.774  24.15297  105.66  ...     0.61   \n",
              "\n",
              "        R_PRES  R_SAMP  DIC1  DIC2  TA1  TA2  pH2  pH1  DIC Quality Comment  \n",
              "0            0     NaN   NaN   NaN  NaN  NaN  NaN  NaN                  NaN  \n",
              "1            8     NaN   NaN   NaN  NaN  NaN  NaN  NaN                  NaN  \n",
              "2           10     NaN   NaN   NaN  NaN  NaN  NaN  NaN                  NaN  \n",
              "3           19     NaN   NaN   NaN  NaN  NaN  NaN  NaN                  NaN  \n",
              "4           20     NaN   NaN   NaN  NaN  NaN  NaN  NaN                  NaN  \n",
              "...        ...     ...   ...   ...  ...  ...  ...  ...                  ...  \n",
              "864858       0     NaN   NaN   NaN  NaN  NaN  NaN  NaN                  NaN  \n",
              "864859       2     4.0   NaN   NaN  NaN  NaN  NaN  NaN                  NaN  \n",
              "864860       5     3.0   NaN   NaN  NaN  NaN  NaN  NaN                  NaN  \n",
              "864861      10     2.0   NaN   NaN  NaN  NaN  NaN  NaN                  NaN  \n",
              "864862      15     1.0   NaN   NaN  NaN  NaN  NaN  NaN                  NaN  \n",
              "\n",
              "[864863 rows x 74 columns]"
            ],
            "text/html": [
              "\n",
              "  <div id=\"df-0bf9bb0d-ca28-4a45-ab78-4dff723e7eaa\" class=\"colab-df-container\">\n",
              "    <div>\n",
              "<style scoped>\n",
              "    .dataframe tbody tr th:only-of-type {\n",
              "        vertical-align: middle;\n",
              "    }\n",
              "\n",
              "    .dataframe tbody tr th {\n",
              "        vertical-align: top;\n",
              "    }\n",
              "\n",
              "    .dataframe thead th {\n",
              "        text-align: right;\n",
              "    }\n",
              "</style>\n",
              "<table border=\"1\" class=\"dataframe\">\n",
              "  <thead>\n",
              "    <tr style=\"text-align: right;\">\n",
              "      <th></th>\n",
              "      <th>Cst_Cnt</th>\n",
              "      <th>Btl_Cnt</th>\n",
              "      <th>Sta_ID</th>\n",
              "      <th>Depth_ID</th>\n",
              "      <th>Depthm</th>\n",
              "      <th>T_degC</th>\n",
              "      <th>Salnty</th>\n",
              "      <th>O2ml_L</th>\n",
              "      <th>STheta</th>\n",
              "      <th>O2Sat</th>\n",
              "      <th>...</th>\n",
              "      <th>R_PHAEO</th>\n",
              "      <th>R_PRES</th>\n",
              "      <th>R_SAMP</th>\n",
              "      <th>DIC1</th>\n",
              "      <th>DIC2</th>\n",
              "      <th>TA1</th>\n",
              "      <th>TA2</th>\n",
              "      <th>pH2</th>\n",
              "      <th>pH1</th>\n",
              "      <th>DIC Quality Comment</th>\n",
              "    </tr>\n",
              "  </thead>\n",
              "  <tbody>\n",
              "    <tr>\n",
              "      <th>0</th>\n",
              "      <td>1</td>\n",
              "      <td>1</td>\n",
              "      <td>054.0 056.0</td>\n",
              "      <td>19-4903CR-HY-060-0930-05400560-0000A-3</td>\n",
              "      <td>0</td>\n",
              "      <td>10.500</td>\n",
              "      <td>33.4400</td>\n",
              "      <td>NaN</td>\n",
              "      <td>25.64900</td>\n",
              "      <td>NaN</td>\n",
              "      <td>...</td>\n",
              "      <td>NaN</td>\n",
              "      <td>0</td>\n",
              "      <td>NaN</td>\n",
              "      <td>NaN</td>\n",
              "      <td>NaN</td>\n",
              "      <td>NaN</td>\n",
              "      <td>NaN</td>\n",
              "      <td>NaN</td>\n",
              "      <td>NaN</td>\n",
              "      <td>NaN</td>\n",
              "    </tr>\n",
              "    <tr>\n",
              "      <th>1</th>\n",
              "      <td>1</td>\n",
              "      <td>2</td>\n",
              "      <td>054.0 056.0</td>\n",
              "      <td>19-4903CR-HY-060-0930-05400560-0008A-3</td>\n",
              "      <td>8</td>\n",
              "      <td>10.460</td>\n",
              "      <td>33.4400</td>\n",
              "      <td>NaN</td>\n",
              "      <td>25.65600</td>\n",
              "      <td>NaN</td>\n",
              "      <td>...</td>\n",
              "      <td>NaN</td>\n",
              "      <td>8</td>\n",
              "      <td>NaN</td>\n",
              "      <td>NaN</td>\n",
              "      <td>NaN</td>\n",
              "      <td>NaN</td>\n",
              "      <td>NaN</td>\n",
              "      <td>NaN</td>\n",
              "      <td>NaN</td>\n",
              "      <td>NaN</td>\n",
              "    </tr>\n",
              "    <tr>\n",
              "      <th>2</th>\n",
              "      <td>1</td>\n",
              "      <td>3</td>\n",
              "      <td>054.0 056.0</td>\n",
              "      <td>19-4903CR-HY-060-0930-05400560-0010A-7</td>\n",
              "      <td>10</td>\n",
              "      <td>10.460</td>\n",
              "      <td>33.4370</td>\n",
              "      <td>NaN</td>\n",
              "      <td>25.65400</td>\n",
              "      <td>NaN</td>\n",
              "      <td>...</td>\n",
              "      <td>NaN</td>\n",
              "      <td>10</td>\n",
              "      <td>NaN</td>\n",
              "      <td>NaN</td>\n",
              "      <td>NaN</td>\n",
              "      <td>NaN</td>\n",
              "      <td>NaN</td>\n",
              "      <td>NaN</td>\n",
              "      <td>NaN</td>\n",
              "      <td>NaN</td>\n",
              "    </tr>\n",
              "    <tr>\n",
              "      <th>3</th>\n",
              "      <td>1</td>\n",
              "      <td>4</td>\n",
              "      <td>054.0 056.0</td>\n",
              "      <td>19-4903CR-HY-060-0930-05400560-0019A-3</td>\n",
              "      <td>19</td>\n",
              "      <td>10.450</td>\n",
              "      <td>33.4200</td>\n",
              "      <td>NaN</td>\n",
              "      <td>25.64300</td>\n",
              "      <td>NaN</td>\n",
              "      <td>...</td>\n",
              "      <td>NaN</td>\n",
              "      <td>19</td>\n",
              "      <td>NaN</td>\n",
              "      <td>NaN</td>\n",
              "      <td>NaN</td>\n",
              "      <td>NaN</td>\n",
              "      <td>NaN</td>\n",
              "      <td>NaN</td>\n",
              "      <td>NaN</td>\n",
              "      <td>NaN</td>\n",
              "    </tr>\n",
              "    <tr>\n",
              "      <th>4</th>\n",
              "      <td>1</td>\n",
              "      <td>5</td>\n",
              "      <td>054.0 056.0</td>\n",
              "      <td>19-4903CR-HY-060-0930-05400560-0020A-7</td>\n",
              "      <td>20</td>\n",
              "      <td>10.450</td>\n",
              "      <td>33.4210</td>\n",
              "      <td>NaN</td>\n",
              "      <td>25.64300</td>\n",
              "      <td>NaN</td>\n",
              "      <td>...</td>\n",
              "      <td>NaN</td>\n",
              "      <td>20</td>\n",
              "      <td>NaN</td>\n",
              "      <td>NaN</td>\n",
              "      <td>NaN</td>\n",
              "      <td>NaN</td>\n",
              "      <td>NaN</td>\n",
              "      <td>NaN</td>\n",
              "      <td>NaN</td>\n",
              "      <td>NaN</td>\n",
              "    </tr>\n",
              "    <tr>\n",
              "      <th>...</th>\n",
              "      <td>...</td>\n",
              "      <td>...</td>\n",
              "      <td>...</td>\n",
              "      <td>...</td>\n",
              "      <td>...</td>\n",
              "      <td>...</td>\n",
              "      <td>...</td>\n",
              "      <td>...</td>\n",
              "      <td>...</td>\n",
              "      <td>...</td>\n",
              "      <td>...</td>\n",
              "      <td>...</td>\n",
              "      <td>...</td>\n",
              "      <td>...</td>\n",
              "      <td>...</td>\n",
              "      <td>...</td>\n",
              "      <td>...</td>\n",
              "      <td>...</td>\n",
              "      <td>...</td>\n",
              "      <td>...</td>\n",
              "      <td>...</td>\n",
              "    </tr>\n",
              "    <tr>\n",
              "      <th>864858</th>\n",
              "      <td>34404</td>\n",
              "      <td>864859</td>\n",
              "      <td>093.4 026.4</td>\n",
              "      <td>20-1611SR-MX-310-2239-09340264-0000A-7</td>\n",
              "      <td>0</td>\n",
              "      <td>18.744</td>\n",
              "      <td>33.4083</td>\n",
              "      <td>5.805</td>\n",
              "      <td>23.87055</td>\n",
              "      <td>108.74</td>\n",
              "      <td>...</td>\n",
              "      <td>0.18</td>\n",
              "      <td>0</td>\n",
              "      <td>NaN</td>\n",
              "      <td>NaN</td>\n",
              "      <td>NaN</td>\n",
              "      <td>NaN</td>\n",
              "      <td>NaN</td>\n",
              "      <td>NaN</td>\n",
              "      <td>NaN</td>\n",
              "      <td>NaN</td>\n",
              "    </tr>\n",
              "    <tr>\n",
              "      <th>864859</th>\n",
              "      <td>34404</td>\n",
              "      <td>864860</td>\n",
              "      <td>093.4 026.4</td>\n",
              "      <td>20-1611SR-MX-310-2239-09340264-0002A-3</td>\n",
              "      <td>2</td>\n",
              "      <td>18.744</td>\n",
              "      <td>33.4083</td>\n",
              "      <td>5.805</td>\n",
              "      <td>23.87072</td>\n",
              "      <td>108.74</td>\n",
              "      <td>...</td>\n",
              "      <td>0.18</td>\n",
              "      <td>2</td>\n",
              "      <td>4.0</td>\n",
              "      <td>NaN</td>\n",
              "      <td>NaN</td>\n",
              "      <td>NaN</td>\n",
              "      <td>NaN</td>\n",
              "      <td>NaN</td>\n",
              "      <td>NaN</td>\n",
              "      <td>NaN</td>\n",
              "    </tr>\n",
              "    <tr>\n",
              "      <th>864860</th>\n",
              "      <td>34404</td>\n",
              "      <td>864861</td>\n",
              "      <td>093.4 026.4</td>\n",
              "      <td>20-1611SR-MX-310-2239-09340264-0005A-3</td>\n",
              "      <td>5</td>\n",
              "      <td>18.692</td>\n",
              "      <td>33.4150</td>\n",
              "      <td>5.796</td>\n",
              "      <td>23.88911</td>\n",
              "      <td>108.46</td>\n",
              "      <td>...</td>\n",
              "      <td>0.18</td>\n",
              "      <td>5</td>\n",
              "      <td>3.0</td>\n",
              "      <td>NaN</td>\n",
              "      <td>NaN</td>\n",
              "      <td>NaN</td>\n",
              "      <td>NaN</td>\n",
              "      <td>NaN</td>\n",
              "      <td>NaN</td>\n",
              "      <td>NaN</td>\n",
              "    </tr>\n",
              "    <tr>\n",
              "      <th>864861</th>\n",
              "      <td>34404</td>\n",
              "      <td>864862</td>\n",
              "      <td>093.4 026.4</td>\n",
              "      <td>20-1611SR-MX-310-2239-09340264-0010A-3</td>\n",
              "      <td>10</td>\n",
              "      <td>18.161</td>\n",
              "      <td>33.4062</td>\n",
              "      <td>5.816</td>\n",
              "      <td>24.01426</td>\n",
              "      <td>107.74</td>\n",
              "      <td>...</td>\n",
              "      <td>0.31</td>\n",
              "      <td>10</td>\n",
              "      <td>2.0</td>\n",
              "      <td>NaN</td>\n",
              "      <td>NaN</td>\n",
              "      <td>NaN</td>\n",
              "      <td>NaN</td>\n",
              "      <td>NaN</td>\n",
              "      <td>NaN</td>\n",
              "      <td>NaN</td>\n",
              "    </tr>\n",
              "    <tr>\n",
              "      <th>864862</th>\n",
              "      <td>34404</td>\n",
              "      <td>864863</td>\n",
              "      <td>093.4 026.4</td>\n",
              "      <td>20-1611SR-MX-310-2239-09340264-0015A-3</td>\n",
              "      <td>15</td>\n",
              "      <td>17.533</td>\n",
              "      <td>33.3880</td>\n",
              "      <td>5.774</td>\n",
              "      <td>24.15297</td>\n",
              "      <td>105.66</td>\n",
              "      <td>...</td>\n",
              "      <td>0.61</td>\n",
              "      <td>15</td>\n",
              "      <td>1.0</td>\n",
              "      <td>NaN</td>\n",
              "      <td>NaN</td>\n",
              "      <td>NaN</td>\n",
              "      <td>NaN</td>\n",
              "      <td>NaN</td>\n",
              "      <td>NaN</td>\n",
              "      <td>NaN</td>\n",
              "    </tr>\n",
              "  </tbody>\n",
              "</table>\n",
              "<p>864863 rows × 74 columns</p>\n",
              "</div>\n",
              "    <div class=\"colab-df-buttons\">\n",
              "\n",
              "  <div class=\"colab-df-container\">\n",
              "    <button class=\"colab-df-convert\" onclick=\"convertToInteractive('df-0bf9bb0d-ca28-4a45-ab78-4dff723e7eaa')\"\n",
              "            title=\"Convert this dataframe to an interactive table.\"\n",
              "            style=\"display:none;\">\n",
              "\n",
              "  <svg xmlns=\"http://www.w3.org/2000/svg\" height=\"24px\" viewBox=\"0 -960 960 960\">\n",
              "    <path d=\"M120-120v-720h720v720H120Zm60-500h600v-160H180v160Zm220 220h160v-160H400v160Zm0 220h160v-160H400v160ZM180-400h160v-160H180v160Zm440 0h160v-160H620v160ZM180-180h160v-160H180v160Zm440 0h160v-160H620v160Z\"/>\n",
              "  </svg>\n",
              "    </button>\n",
              "\n",
              "  <style>\n",
              "    .colab-df-container {\n",
              "      display:flex;\n",
              "      gap: 12px;\n",
              "    }\n",
              "\n",
              "    .colab-df-convert {\n",
              "      background-color: #E8F0FE;\n",
              "      border: none;\n",
              "      border-radius: 50%;\n",
              "      cursor: pointer;\n",
              "      display: none;\n",
              "      fill: #1967D2;\n",
              "      height: 32px;\n",
              "      padding: 0 0 0 0;\n",
              "      width: 32px;\n",
              "    }\n",
              "\n",
              "    .colab-df-convert:hover {\n",
              "      background-color: #E2EBFA;\n",
              "      box-shadow: 0px 1px 2px rgba(60, 64, 67, 0.3), 0px 1px 3px 1px rgba(60, 64, 67, 0.15);\n",
              "      fill: #174EA6;\n",
              "    }\n",
              "\n",
              "    .colab-df-buttons div {\n",
              "      margin-bottom: 4px;\n",
              "    }\n",
              "\n",
              "    [theme=dark] .colab-df-convert {\n",
              "      background-color: #3B4455;\n",
              "      fill: #D2E3FC;\n",
              "    }\n",
              "\n",
              "    [theme=dark] .colab-df-convert:hover {\n",
              "      background-color: #434B5C;\n",
              "      box-shadow: 0px 1px 3px 1px rgba(0, 0, 0, 0.15);\n",
              "      filter: drop-shadow(0px 1px 2px rgba(0, 0, 0, 0.3));\n",
              "      fill: #FFFFFF;\n",
              "    }\n",
              "  </style>\n",
              "\n",
              "    <script>\n",
              "      const buttonEl =\n",
              "        document.querySelector('#df-0bf9bb0d-ca28-4a45-ab78-4dff723e7eaa button.colab-df-convert');\n",
              "      buttonEl.style.display =\n",
              "        google.colab.kernel.accessAllowed ? 'block' : 'none';\n",
              "\n",
              "      async function convertToInteractive(key) {\n",
              "        const element = document.querySelector('#df-0bf9bb0d-ca28-4a45-ab78-4dff723e7eaa');\n",
              "        const dataTable =\n",
              "          await google.colab.kernel.invokeFunction('convertToInteractive',\n",
              "                                                    [key], {});\n",
              "        if (!dataTable) return;\n",
              "\n",
              "        const docLinkHtml = 'Like what you see? Visit the ' +\n",
              "          '<a target=\"_blank\" href=https://colab.research.google.com/notebooks/data_table.ipynb>data table notebook</a>'\n",
              "          + ' to learn more about interactive tables.';\n",
              "        element.innerHTML = '';\n",
              "        dataTable['output_type'] = 'display_data';\n",
              "        await google.colab.output.renderOutput(dataTable, element);\n",
              "        const docLink = document.createElement('div');\n",
              "        docLink.innerHTML = docLinkHtml;\n",
              "        element.appendChild(docLink);\n",
              "      }\n",
              "    </script>\n",
              "  </div>\n",
              "\n",
              "\n",
              "<div id=\"df-4b4b3fb4-b553-4463-85dc-562b5a74bb5a\">\n",
              "  <button class=\"colab-df-quickchart\" onclick=\"quickchart('df-4b4b3fb4-b553-4463-85dc-562b5a74bb5a')\"\n",
              "            title=\"Suggest charts\"\n",
              "            style=\"display:none;\">\n",
              "\n",
              "<svg xmlns=\"http://www.w3.org/2000/svg\" height=\"24px\"viewBox=\"0 0 24 24\"\n",
              "     width=\"24px\">\n",
              "    <g>\n",
              "        <path d=\"M19 3H5c-1.1 0-2 .9-2 2v14c0 1.1.9 2 2 2h14c1.1 0 2-.9 2-2V5c0-1.1-.9-2-2-2zM9 17H7v-7h2v7zm4 0h-2V7h2v10zm4 0h-2v-4h2v4z\"/>\n",
              "    </g>\n",
              "</svg>\n",
              "  </button>\n",
              "\n",
              "<style>\n",
              "  .colab-df-quickchart {\n",
              "      --bg-color: #E8F0FE;\n",
              "      --fill-color: #1967D2;\n",
              "      --hover-bg-color: #E2EBFA;\n",
              "      --hover-fill-color: #174EA6;\n",
              "      --disabled-fill-color: #AAA;\n",
              "      --disabled-bg-color: #DDD;\n",
              "  }\n",
              "\n",
              "  [theme=dark] .colab-df-quickchart {\n",
              "      --bg-color: #3B4455;\n",
              "      --fill-color: #D2E3FC;\n",
              "      --hover-bg-color: #434B5C;\n",
              "      --hover-fill-color: #FFFFFF;\n",
              "      --disabled-bg-color: #3B4455;\n",
              "      --disabled-fill-color: #666;\n",
              "  }\n",
              "\n",
              "  .colab-df-quickchart {\n",
              "    background-color: var(--bg-color);\n",
              "    border: none;\n",
              "    border-radius: 50%;\n",
              "    cursor: pointer;\n",
              "    display: none;\n",
              "    fill: var(--fill-color);\n",
              "    height: 32px;\n",
              "    padding: 0;\n",
              "    width: 32px;\n",
              "  }\n",
              "\n",
              "  .colab-df-quickchart:hover {\n",
              "    background-color: var(--hover-bg-color);\n",
              "    box-shadow: 0 1px 2px rgba(60, 64, 67, 0.3), 0 1px 3px 1px rgba(60, 64, 67, 0.15);\n",
              "    fill: var(--button-hover-fill-color);\n",
              "  }\n",
              "\n",
              "  .colab-df-quickchart-complete:disabled,\n",
              "  .colab-df-quickchart-complete:disabled:hover {\n",
              "    background-color: var(--disabled-bg-color);\n",
              "    fill: var(--disabled-fill-color);\n",
              "    box-shadow: none;\n",
              "  }\n",
              "\n",
              "  .colab-df-spinner {\n",
              "    border: 2px solid var(--fill-color);\n",
              "    border-color: transparent;\n",
              "    border-bottom-color: var(--fill-color);\n",
              "    animation:\n",
              "      spin 1s steps(1) infinite;\n",
              "  }\n",
              "\n",
              "  @keyframes spin {\n",
              "    0% {\n",
              "      border-color: transparent;\n",
              "      border-bottom-color: var(--fill-color);\n",
              "      border-left-color: var(--fill-color);\n",
              "    }\n",
              "    20% {\n",
              "      border-color: transparent;\n",
              "      border-left-color: var(--fill-color);\n",
              "      border-top-color: var(--fill-color);\n",
              "    }\n",
              "    30% {\n",
              "      border-color: transparent;\n",
              "      border-left-color: var(--fill-color);\n",
              "      border-top-color: var(--fill-color);\n",
              "      border-right-color: var(--fill-color);\n",
              "    }\n",
              "    40% {\n",
              "      border-color: transparent;\n",
              "      border-right-color: var(--fill-color);\n",
              "      border-top-color: var(--fill-color);\n",
              "    }\n",
              "    60% {\n",
              "      border-color: transparent;\n",
              "      border-right-color: var(--fill-color);\n",
              "    }\n",
              "    80% {\n",
              "      border-color: transparent;\n",
              "      border-right-color: var(--fill-color);\n",
              "      border-bottom-color: var(--fill-color);\n",
              "    }\n",
              "    90% {\n",
              "      border-color: transparent;\n",
              "      border-bottom-color: var(--fill-color);\n",
              "    }\n",
              "  }\n",
              "</style>\n",
              "\n",
              "  <script>\n",
              "    async function quickchart(key) {\n",
              "      const quickchartButtonEl =\n",
              "        document.querySelector('#' + key + ' button');\n",
              "      quickchartButtonEl.disabled = true;  // To prevent multiple clicks.\n",
              "      quickchartButtonEl.classList.add('colab-df-spinner');\n",
              "      try {\n",
              "        const charts = await google.colab.kernel.invokeFunction(\n",
              "            'suggestCharts', [key], {});\n",
              "      } catch (error) {\n",
              "        console.error('Error during call to suggestCharts:', error);\n",
              "      }\n",
              "      quickchartButtonEl.classList.remove('colab-df-spinner');\n",
              "      quickchartButtonEl.classList.add('colab-df-quickchart-complete');\n",
              "    }\n",
              "    (() => {\n",
              "      let quickchartButtonEl =\n",
              "        document.querySelector('#df-4b4b3fb4-b553-4463-85dc-562b5a74bb5a button');\n",
              "      quickchartButtonEl.style.display =\n",
              "        google.colab.kernel.accessAllowed ? 'block' : 'none';\n",
              "    })();\n",
              "  </script>\n",
              "</div>\n",
              "\n",
              "  <div id=\"id_f19ec16e-6f5d-443b-a004-903afd88a911\">\n",
              "    <style>\n",
              "      .colab-df-generate {\n",
              "        background-color: #E8F0FE;\n",
              "        border: none;\n",
              "        border-radius: 50%;\n",
              "        cursor: pointer;\n",
              "        display: none;\n",
              "        fill: #1967D2;\n",
              "        height: 32px;\n",
              "        padding: 0 0 0 0;\n",
              "        width: 32px;\n",
              "      }\n",
              "\n",
              "      .colab-df-generate:hover {\n",
              "        background-color: #E2EBFA;\n",
              "        box-shadow: 0px 1px 2px rgba(60, 64, 67, 0.3), 0px 1px 3px 1px rgba(60, 64, 67, 0.15);\n",
              "        fill: #174EA6;\n",
              "      }\n",
              "\n",
              "      [theme=dark] .colab-df-generate {\n",
              "        background-color: #3B4455;\n",
              "        fill: #D2E3FC;\n",
              "      }\n",
              "\n",
              "      [theme=dark] .colab-df-generate:hover {\n",
              "        background-color: #434B5C;\n",
              "        box-shadow: 0px 1px 3px 1px rgba(0, 0, 0, 0.15);\n",
              "        filter: drop-shadow(0px 1px 2px rgba(0, 0, 0, 0.3));\n",
              "        fill: #FFFFFF;\n",
              "      }\n",
              "    </style>\n",
              "    <button class=\"colab-df-generate\" onclick=\"generateWithVariable('bottles')\"\n",
              "            title=\"Generate code using this dataframe.\"\n",
              "            style=\"display:none;\">\n",
              "\n",
              "  <svg xmlns=\"http://www.w3.org/2000/svg\" height=\"24px\"viewBox=\"0 0 24 24\"\n",
              "       width=\"24px\">\n",
              "    <path d=\"M7,19H8.4L18.45,9,17,7.55,7,17.6ZM5,21V16.75L18.45,3.32a2,2,0,0,1,2.83,0l1.4,1.43a1.91,1.91,0,0,1,.58,1.4,1.91,1.91,0,0,1-.58,1.4L9.25,21ZM18.45,9,17,7.55Zm-12,3A5.31,5.31,0,0,0,4.9,8.1,5.31,5.31,0,0,0,1,6.5,5.31,5.31,0,0,0,4.9,4.9,5.31,5.31,0,0,0,6.5,1,5.31,5.31,0,0,0,8.1,4.9,5.31,5.31,0,0,0,12,6.5,5.46,5.46,0,0,0,6.5,12Z\"/>\n",
              "  </svg>\n",
              "    </button>\n",
              "    <script>\n",
              "      (() => {\n",
              "      const buttonEl =\n",
              "        document.querySelector('#id_f19ec16e-6f5d-443b-a004-903afd88a911 button.colab-df-generate');\n",
              "      buttonEl.style.display =\n",
              "        google.colab.kernel.accessAllowed ? 'block' : 'none';\n",
              "\n",
              "      buttonEl.onclick = () => {\n",
              "        google.colab.notebook.generateWithVariable('bottles');\n",
              "      }\n",
              "      })();\n",
              "    </script>\n",
              "  </div>\n",
              "\n",
              "    </div>\n",
              "  </div>\n"
            ],
            "application/vnd.google.colaboratory.intrinsic+json": {
              "type": "dataframe",
              "variable_name": "bottles"
            }
          },
          "metadata": {},
          "execution_count": 6
        }
      ]
    },
    {
      "cell_type": "markdown",
      "source": [
        "Extract the 2 columns 'T_degC' and 'Salnty' and print 10 rows of data. Following this, remove any NA rows by using the `dropna` function. *(3 points)*"
      ],
      "metadata": {
        "id": "2l7AkWROXiSx"
      }
    },
    {
      "cell_type": "code",
      "source": [
        "wanted=bottles[[\"T_degC\",\"Salnty\"]]\n",
        "print((wanted.head(10)))\n",
        "wanted=wanted.dropna()\n",
        "temp=wanted[\"T_degC\"]\n",
        "salt=wanted[\"Salnty\"]"
      ],
      "metadata": {
        "id": "rYB08qtqXiCl",
        "colab": {
          "base_uri": "https://localhost:8080/"
        },
        "outputId": "d1d796c3-f496-418f-df9b-fc209b0b15ff"
      },
      "execution_count": null,
      "outputs": [
        {
          "output_type": "stream",
          "name": "stdout",
          "text": [
            "   T_degC  Salnty\n",
            "0   10.50  33.440\n",
            "1   10.46  33.440\n",
            "2   10.46  33.437\n",
            "3   10.45  33.420\n",
            "4   10.45  33.421\n",
            "5   10.45  33.431\n",
            "6   10.45  33.440\n",
            "7   10.24  33.424\n",
            "8   10.06  33.420\n",
            "9    9.86  33.494\n"
          ]
        }
      ]
    },
    {
      "cell_type": "markdown",
      "source": [
        "Split the data into test and training sets. Perform Ordinary Linear Regression, Ridge Regression ($\\alpha=1$), and Lasso Regression ($\\alpha=1$) on the training sets. Make a decision on which model might works best in this situation. *(10 points)*\n",
        "\n",
        "Be careful about which variable is the independent one (X) and which is the dependent one (Y)!"
      ],
      "metadata": {
        "id": "P1Bx6AoWYqrA"
      }
    },
    {
      "cell_type": "code",
      "source": [
        "# You will need to reshape the X values from the data frame using the following code\n",
        "##(you may be calling them different variable names)\n",
        "\n",
        "(X_trainsalt, X_testsalt, Y_traintemp, Y_testtemp)=train_test_split(salt,temp)\n",
        "\n",
        "X_trainsalt = X_trainsalt.to_numpy().reshape(-1,1)\n",
        "X_testsalt = X_testsalt.to_numpy().reshape(-1,1)\n",
        "\n",
        "ridgesalt=Ridge(1).fit(X_trainsalt,Y_traintemp)\n",
        "lassosalt=Lasso(1).fit(X_trainsalt,Y_traintemp)\n",
        "linesalt=LinearRegression().fit(X_trainsalt,Y_traintemp)\n",
        "\n",
        "print(ridgesalt.score(X_trainsalt,Y_traintemp))\n",
        "print(lassosalt.score(X_trainsalt,Y_traintemp))\n",
        "print(linesalt.score(X_trainsalt,Y_traintemp))"
      ],
      "metadata": {
        "id": "lYNb5WmyYqM0",
        "colab": {
          "base_uri": "https://localhost:8080/"
        },
        "outputId": "04409e94-1a19-429b-c8b5-07a95edcb675"
      },
      "execution_count": null,
      "outputs": [
        {
          "output_type": "stream",
          "name": "stdout",
          "text": [
            "0.2579497384450341\n",
            "0.0\n",
            "0.257949738460329\n"
          ]
        }
      ]
    },
    {
      "cell_type": "markdown",
      "source": [
        "The linear regression might be better, but the difference is so low that it wouldn't make much a difference and both have a low accuracy."
      ],
      "metadata": {
        "id": "vRLd-le8wZQX"
      }
    },
    {
      "cell_type": "markdown",
      "source": [
        "#3: Polynomial Regression *(10 points)*"
      ],
      "metadata": {
        "id": "aod3YMG7JkEH"
      }
    },
    {
      "cell_type": "markdown",
      "source": [
        "We are going to now investigate regression that is not linear. We will focus on quadratic regression. First, we will artificially create some quadratic data. *(1 point)*"
      ],
      "metadata": {
        "id": "Pu817nzOJMDD"
      }
    },
    {
      "cell_type": "code",
      "source": [
        "# Generates 150 x-values multiplies by 6 and subtracts 3\n",
        "X = 6 * np.random.rand(150, 1) - 3\n",
        "# Generates 150 y-values under a quadratic model\n",
        "Y = 0.5 * X**2 + X + 2 + np.random.randn(150, 1)\n",
        "\n",
        "X=np.array(X)\n",
        "Y=np.array(Y)\n",
        "\n",
        "plt.plot(X, Y, \"b.\")\n",
        "plt.xlabel(\"$X$\")\n",
        "plt.ylabel(\"$Y$\")\n",
        "plt.axis([-3.5, 3.5, -1, 12])\n",
        "plt.show()"
      ],
      "metadata": {
        "colab": {
          "base_uri": "https://localhost:8080/",
          "height": 455
        },
        "id": "ZKWS1UMRJtQz",
        "outputId": "9def87ba-c559-4f67-cfb0-425c62367e3f"
      },
      "execution_count": null,
      "outputs": [
        {
          "output_type": "display_data",
          "data": {
            "text/plain": [
              "<Figure size 640x480 with 1 Axes>"
            ],
            "image/png": "[encoded data removed]"
          },
          "metadata": {}
        }
      ]
    },
    {
      "cell_type": "markdown",
      "source": [
        "Our goal is to develop a model that is quadratic, namely one where we can predict $y$ as $b+m_1x + m_2x^2$.\n",
        "\n",
        "Import the `PolynomialFeatures` function from the preprocessing package within sklearn. Define a model using the `PolynomialFeatures` with the following inputs `degree=2,include_bias=False`. Then split our X and Y values above into a training and test set. *(3 points)*"
      ],
      "metadata": {
        "id": "OcqqwFAhMZSS"
      }
    },
    {
      "cell_type": "code",
      "source": [
        "from sklearn.preprocessing import PolynomialFeatures as pf\n",
        "polied=pf(degree=2,include_bias=False)\n",
        "\n",
        "(X_trains, X_tests, Y_trains, Y_tests)=train_test_split(X,Y)"
      ],
      "metadata": {
        "id": "on2rs2VyLTLB"
      },
      "execution_count": null,
      "outputs": []
    },
    {
      "cell_type": "markdown",
      "source": [
        "As this isn't a linear model, we can't use the linear functions from `sklearn`. However, we can transform it to a linear model where we can evaluate it as we did above. Instead of using the `fit` function on our training set, let's use the `fit_transform` function on the X portion of the training set.\n",
        "\n",
        "We will need to transform the test set as well. To do this, use the `transform` function as we aren't \"fitting\" it to anything. *(2 points)*"
      ],
      "metadata": {
        "id": "km8hhDwWM3eq"
      }
    },
    {
      "cell_type": "code",
      "source": [
        "polytrain=polied.fit_transform(X_trains)\n",
        "polytest=polied.transform(X_tests)"
      ],
      "metadata": {
        "id": "tHafLNq0NYtg"
      },
      "execution_count": null,
      "outputs": []
    },
    {
      "cell_type": "markdown",
      "source": [
        "What we have just done is essentially made our single variable X into two different attributes. Now, we can use our normal linear regression to find the coefficients $m_1$ and $m_2$ above. Show the coefficients and intercepts. *(2 points)*"
      ],
      "metadata": {
        "id": "h-pZ5os0NqsA"
      }
    },
    {
      "cell_type": "code",
      "source": [
        "linepoly=LinearRegression().fit(polytrain, Y_trains)\n",
        "print(\"coefficients:\",linepoly.coef_[0])\n",
        "print(\"intercepts:\",linepoly.intercept_)"
      ],
      "metadata": {
        "id": "C70ZnnygN4x9",
        "colab": {
          "base_uri": "https://localhost:8080/"
        },
        "outputId": "bf63992a-e4e3-485d-d7d8-b813606d0c7d"
      },
      "execution_count": null,
      "outputs": [
        {
          "output_type": "stream",
          "name": "stdout",
          "text": [
            "coefficients: [1.04913864 0.52943554]\n",
            "intercepts: [2.07302835]\n"
          ]
        }
      ]
    },
    {
      "cell_type": "markdown",
      "source": [
        "Using the coefficients, we can see that our prediction model is $y=b+m_1x+m_2x^2$ (a quadratic model). Plot the new model along with the scatter plot above. *(2 points)*"
      ],
      "metadata": {
        "id": "R6RQtixiOugj"
      }
    },
    {
      "cell_type": "code",
      "source": [
        "#  Define enough points x to use when evaluating the predicted values y\n",
        "x = np.linspace(-3, 3, 400)\n",
        "\n",
        "(m1, m2)=linepoly.coef_[0]\n",
        "\n",
        "y=linepoly.intercept_+m1*x+m2*(x**2)\n",
        "\n",
        "plt.plot(X, Y, \"b.\")\n",
        "plt.plot(x,y,color=\"black\")\n",
        "plt.xlabel(\"$X$\")\n",
        "plt.ylabel(\"$Y$\")\n",
        "plt.axis([-3.5, 3.5, -1, 12])\n",
        "plt.show()"
      ],
      "metadata": {
        "id": "ul0IfKMqOuIR",
        "colab": {
          "base_uri": "https://localhost:8080/",
          "height": 455
        },
        "outputId": "5751bdc4-e876-4aa8-8218-e26f3bb814a0"
      },
      "execution_count": null,
      "outputs": [
        {
          "output_type": "display_data",
          "data": {
            "text/plain": [
              "<Figure size 640x480 with 1 Axes>"
            ],
            "image/png": "[encoded data removed]"
          },
          "metadata": {}
        }
      ]
    }
  ]
}