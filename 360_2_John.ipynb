{
  "nbformat": 4,
  "nbformat_minor": 0,
  "metadata": {
    "colab": {
      "provenance": []
    },
    "kernelspec": {
      "name": "python3",
      "display_name": "Python 3"
    },
    "language_info": {
      "name": "python"
    }
  },
  "cells": [
    {
      "cell_type": "markdown",
      "source": [
        "For this homework assignment, you are to submit a **single** ipynb file. Use the provided ipynb file to keep the same formatting for each question. In the ipynb file name, replace \"NAME\" with your first name. Unless otherwise specified, present your code as well as the output in your report. It is the student's responsibility to make sure the ipynb file runs when submitted. This assignment is worth 45 points."
      ],
      "metadata": {
        "id": "Atco0CQ5RcXc"
      }
    },
    {
      "cell_type": "markdown",
      "source": [
        "# 1: Vectors *(20 Points)*"
      ],
      "metadata": {
        "id": "4gbjs3DDRdxr"
      }
    },
    {
      "cell_type": "markdown",
      "source": [
        "In Python, vectors are simply arrays from the NumPy package (usually loaded as np). Load the NumPy package and create a vector of size 6 with zero elements, positive elements, negative elements, and fractional elements. Call this vector x. *(2 points)*"
      ],
      "metadata": {
        "id": "ShWBJ_U7R0gq"
      }
    },
    {
      "cell_type": "code",
      "execution_count": null,
      "metadata": {
        "id": "ivKumdd1RaC9"
      },
      "outputs": [],
      "source": [
        "import numpy as np"
      ]
    },
    {
      "cell_type": "code",
      "source": [
        "x = np.array((6,0,7,-9,2/3,4))\n",
        "print(x)"
      ],
      "metadata": {
        "colab": {
          "base_uri": "https://localhost:8080/"
        },
        "id": "MDYco4Z-94VO",
        "outputId": "723d595b-2fb5-458a-df12-347a24d6128c"
      },
      "execution_count": null,
      "outputs": [
        {
          "output_type": "stream",
          "name": "stdout",
          "text": [
            "[ 6.          0.          7.         -9.          0.66666667  4.        ]\n"
          ]
        }
      ]
    },
    {
      "cell_type": "markdown",
      "source": [
        "Run the following commands and explain what each one does. *(3 points)*"
      ],
      "metadata": {
        "id": "zioz-C7kSgtW"
      }
    },
    {
      "cell_type": "code",
      "source": [
        "print(x.size)\n",
        "print(x[3])\n",
        "print(x[-1])"
      ],
      "metadata": {
        "id": "QE1koeL0SgTp",
        "colab": {
          "base_uri": "https://localhost:8080/"
        },
        "outputId": "d7b9361d-4bc1-46e3-b6cc-197ba7fecd9c"
      },
      "execution_count": null,
      "outputs": [
        {
          "output_type": "stream",
          "name": "stdout",
          "text": [
            "6\n",
            "-9.0\n",
            "4.0\n"
          ]
        }
      ]
    },
    {
      "cell_type": "markdown",
      "source": [
        "The first line of code prints the size of the vector, showing that the vector contains 6 elements. The second line of code returns the 3rd element in the vector starting at 0, therby returning -9. The third line of code returns the last element of the vector by counting in reverse, thereby starting with the last element of the vector when using -1."
      ],
      "metadata": {
        "id": "NQJ8LNfPA0B0"
      }
    },
    {
      "cell_type": "markdown",
      "source": [
        "In order to do exponents in Python, we use the command `**`. In other words, $2^3$ is represented by `2**3`.\n",
        "\n",
        "Write a function that computes the Euclidean norm of a vector of arbitrary size. Then use your function to find the magnitude of x. *(5 points)*\n",
        "\n"
      ],
      "metadata": {
        "id": "NE_nBun_TTqr"
      }
    },
    {
      "cell_type": "code",
      "source": [
        "def enorm(v):\n",
        "  mid2=0\n",
        "  for i in v:\n",
        "    mid = i**2\n",
        "    mid2=mid2+mid\n",
        "  normed=np.sqrt(mid2)\n",
        "  return print(normed)\n",
        "\n",
        "enorm(x)"
      ],
      "metadata": {
        "id": "TWeux4w2TxXf",
        "colab": {
          "base_uri": "https://localhost:8080/"
        },
        "outputId": "ef3849b0-9fe4-4548-8d0a-7b366a138e1e"
      },
      "execution_count": null,
      "outputs": [
        {
          "output_type": "stream",
          "name": "stdout",
          "text": [
            "13.50719972623654\n"
          ]
        }
      ]
    },
    {
      "cell_type": "markdown",
      "source": [
        "Now, import the `linalg` directory inside NumPy and use the `norm` function to verify that your handmade function worked! *(2 points)*"
      ],
      "metadata": {
        "id": "gtt5e_jZUWOA"
      }
    },
    {
      "cell_type": "code",
      "source": [
        "import numpy.linalg as lin\n",
        "lin.norm(x)"
      ],
      "metadata": {
        "id": "7DMJJYCXUhZB",
        "colab": {
          "base_uri": "https://localhost:8080/"
        },
        "outputId": "5b10d33a-1e0c-43a9-9665-bc21d6684d3f"
      },
      "execution_count": null,
      "outputs": [
        {
          "output_type": "execute_result",
          "data": {
            "text/plain": [
              "13.50719972623654"
            ]
          },
          "metadata": {},
          "execution_count": 39
        }
      ]
    },
    {
      "cell_type": "markdown",
      "source": [
        "For vector addition and scalar multiplication, it works how you hope it would with `+` and `*`. Find a unit vector in the same direction of x through scalar multiplication and then add it to the vector $y=\\begin{pmatrix}\n",
        "1 \\\\ 3 \\\\ 5 \\\\ -3 \\\\ 0 \\\\ 2 \\end{pmatrix}$. *(3 points)*"
      ],
      "metadata": {
        "id": "anHsyiNlUtc7"
      }
    },
    {
      "cell_type": "code",
      "source": [
        "y = np.array((1,2,5,-3,0,2))\n",
        "u = 1/lin.norm(x)\n",
        "print((x*u) + y)"
      ],
      "metadata": {
        "id": "f8K_qpcsVKpf",
        "colab": {
          "base_uri": "https://localhost:8080/"
        },
        "outputId": "2d1dbece-d920-48fd-df93-812d578fbce8"
      },
      "execution_count": null,
      "outputs": [
        {
          "output_type": "stream",
          "name": "stdout",
          "text": [
            "[ 1.44420754  2.          5.51824213 -3.66631131  0.04935639  2.29613836]\n"
          ]
        }
      ]
    },
    {
      "cell_type": "markdown",
      "source": [
        "Write a function that calculates the dot product between two vectors. Then use that to find the dot product of x and y. *(5 points)*"
      ],
      "metadata": {
        "id": "FJKYWbV2VyVL"
      }
    },
    {
      "cell_type": "code",
      "source": [
        "def dots(numf,numd):\n",
        "  tot=0\n",
        "  for i in range(np.size(numf)):\n",
        "    lol=numf[i]*numd[i]\n",
        "    tot=tot+lol\n",
        "  return tot\n",
        "dots(x,y)"
      ],
      "metadata": {
        "id": "mxBWStC1VxvU",
        "colab": {
          "base_uri": "https://localhost:8080/"
        },
        "outputId": "df4b4e03-bc9c-4cb1-fef3-f891fb74444a"
      },
      "execution_count": null,
      "outputs": [
        {
          "output_type": "execute_result",
          "data": {
            "text/plain": [
              "76.0"
            ]
          },
          "metadata": {},
          "execution_count": 53
        }
      ]
    },
    {
      "cell_type": "markdown",
      "source": [
        "NumPy has two built-in functions for finding the dot product!"
      ],
      "metadata": {
        "id": "k8776NFxVKL0"
      }
    },
    {
      "cell_type": "code",
      "source": [
        "print(np.dot(x,y))\n",
        "print(x.dot(y))"
      ],
      "metadata": {
        "id": "_HnnmombWaqc",
        "colab": {
          "base_uri": "https://localhost:8080/"
        },
        "outputId": "4215100b-d63c-44f2-835f-63b908782b30"
      },
      "execution_count": null,
      "outputs": [
        {
          "output_type": "stream",
          "name": "stdout",
          "text": [
            "76.0\n",
            "76.0\n",
            "[ 6.          0.          7.         -9.          0.66666667  4.        ]\n",
            "[ 1  2  5 -3  0  2]\n"
          ]
        }
      ]
    },
    {
      "cell_type": "markdown",
      "source": [
        "# 2: Matrices *(20 Points)*"
      ],
      "metadata": {
        "id": "tLa-FA19WaQV"
      }
    },
    {
      "cell_type": "markdown",
      "source": [
        "A matrix is an array of arrays. Make an array using x and y as the elements of the array. Call this object M. *(2 points)*"
      ],
      "metadata": {
        "id": "2uo5MmUZMncy"
      }
    },
    {
      "cell_type": "code",
      "source": [
        "M=np.array((x,y))\n",
        "print(M)"
      ],
      "metadata": {
        "id": "2sIjuzxhMww_",
        "colab": {
          "base_uri": "https://localhost:8080/"
        },
        "outputId": "da093f2a-8c21-427e-d193-f4e479a22af5"
      },
      "execution_count": null,
      "outputs": [
        {
          "output_type": "stream",
          "name": "stdout",
          "text": [
            "[[ 6.          0.          7.         -9.          0.66666667  4.        ]\n",
            " [ 1.          2.          5.         -3.          0.          2.        ]]\n"
          ]
        }
      ]
    },
    {
      "cell_type": "markdown",
      "source": [
        "Explain the difference between the size and shape of M. The dimensions of a matrix are always represented as (rows) $\\times$ (columns) *(2 points)*"
      ],
      "metadata": {
        "id": "_uRkkDIIOoPE"
      }
    },
    {
      "cell_type": "code",
      "source": [
        "print(M.size)\n",
        "print(M.shape)"
      ],
      "metadata": {
        "id": "PdCaIb0eOq5B",
        "colab": {
          "base_uri": "https://localhost:8080/"
        },
        "outputId": "6c3c5bbd-c9e0-445e-839b-c9b2fe04d85e"
      },
      "execution_count": null,
      "outputs": [
        {
          "output_type": "stream",
          "name": "stdout",
          "text": [
            "12\n",
            "(2, 6)\n"
          ]
        }
      ]
    },
    {
      "cell_type": "markdown",
      "source": [
        "The differences between size and shape is that size is returning the total number of elements in the matrix (12) while shape returns the number of rows by the number of columns in the matrix (2,6)."
      ],
      "metadata": {
        "id": "ayMND9X2I68F"
      }
    },
    {
      "cell_type": "markdown",
      "source": [
        "Given a matrix M, there is another special and very useful matrix associated to it, called the transpose of M. We can find the transpose by using the `T` function from NumPy. Find the transpose of M and after looking at the transpose, explain what you think the transpose is. *(2 points)*"
      ],
      "metadata": {
        "id": "SF_g_9RhWJoN"
      }
    },
    {
      "cell_type": "code",
      "source": [
        "tr=np.transpose(M)\n",
        "print(tr)"
      ],
      "metadata": {
        "id": "8WtszbCxWhCY",
        "colab": {
          "base_uri": "https://localhost:8080/"
        },
        "outputId": "411c2d9a-808d-42d1-d3c4-dc48643c258a"
      },
      "execution_count": null,
      "outputs": [
        {
          "output_type": "stream",
          "name": "stdout",
          "text": [
            "[[ 6.          1.        ]\n",
            " [ 0.          2.        ]\n",
            " [ 7.          5.        ]\n",
            " [-9.         -3.        ]\n",
            " [ 0.66666667  0.        ]\n",
            " [ 4.          2.        ]]\n"
          ]
        }
      ]
    },
    {
      "cell_type": "markdown",
      "source": [
        "I believe transpose is inverting the columns and rows of the matrix, where the first row becomes the first column and the second row becomes the second column."
      ],
      "metadata": {
        "id": "h3ME_Qc7Jih3"
      }
    },
    {
      "cell_type": "markdown",
      "source": [
        "Run the following code constructing a matrix as a list of lists. Then add M and N together using the regular addition symbol! *(2 points)*"
      ],
      "metadata": {
        "id": "le7OtZn2Nl4W"
      }
    },
    {
      "cell_type": "code",
      "source": [
        "N=[[1,2,3,4,5,6],[0,-1,-2,-3,4,5]]\n",
        "N=np.array(N)\n",
        "O=M+N\n",
        "print(O)"
      ],
      "metadata": {
        "id": "GMmlaCgnNKLI",
        "colab": {
          "base_uri": "https://localhost:8080/"
        },
        "outputId": "0b8ea5da-b879-4f4f-e00c-fb70436d002d"
      },
      "execution_count": null,
      "outputs": [
        {
          "output_type": "stream",
          "name": "stdout",
          "text": [
            "[[ 7.          2.         10.         -5.          5.66666667 10.        ]\n",
            " [ 1.          1.          3.         -6.          4.          7.        ]]\n"
          ]
        }
      ]
    },
    {
      "cell_type": "markdown",
      "source": [
        "To find the element in the $M_{i+1,j+1}$, we will want to use the command `M[i,j]`. Have Python print the element $M_{1,4}$.\n",
        "\n",
        "The `:` command inside the brackets, `[]` allow us to return an entire array. Play around with commands similar to `M[i,j]` to call the first row of M and the second column of N. *(3 points)*"
      ],
      "metadata": {
        "id": "x9Z7t95CmXOS"
      }
    },
    {
      "cell_type": "code",
      "source": [
        "print(M[1,4])\n",
        "print(M[0:1])\n",
        "print(N[:,1:2])"
      ],
      "metadata": {
        "id": "Po9CJNaZlsim",
        "colab": {
          "base_uri": "https://localhost:8080/"
        },
        "outputId": "0761c6c9-da11-4d20-bcff-694e84e62665"
      },
      "execution_count": null,
      "outputs": [
        {
          "output_type": "stream",
          "name": "stdout",
          "text": [
            "0.0\n",
            "[[ 6.          0.          7.         -9.          0.66666667  4.        ]]\n",
            "[[ 2]\n",
            " [-1]]\n"
          ]
        }
      ]
    },
    {
      "cell_type": "markdown",
      "source": [
        "Is matrix multiplication done with `*`? If it is possible to multiply M and N together, then try it with `*`. *(0.5 points)*"
      ],
      "metadata": {
        "id": "5fZbbOt-NzCn"
      }
    },
    {
      "cell_type": "code",
      "source": [
        "print(M*N)\n",
        "M*(N.T) # can't use *"
      ],
      "metadata": {
        "id": "O1l5iZOFN9Zy",
        "colab": {
          "base_uri": "https://localhost:8080/",
          "height": 237
        },
        "outputId": "7599aa70-27e8-4048-c72d-4450ce2a81ab"
      },
      "execution_count": null,
      "outputs": [
        {
          "output_type": "stream",
          "name": "stdout",
          "text": [
            "[[  6.           0.          21.         -36.           3.33333333\n",
            "   24.        ]\n",
            " [  0.          -2.         -10.           9.           0.\n",
            "   10.        ]]\n"
          ]
        },
        {
          "output_type": "error",
          "ename": "ValueError",
          "evalue": "operands could not be broadcast together with shapes (2,6) (6,2) ",
          "traceback": [
            "\u001b[0;31m---------------------------------------------------------------------------\u001b[0m",
            "\u001b[0;31mValueError\u001b[0m                                Traceback (most recent call last)",
            "\u001b[0;32m<ipython-input-82-11c0e89f427f>\u001b[0m in \u001b[0;36m<cell line: 0>\u001b[0;34m()\u001b[0m\n\u001b[1;32m      1\u001b[0m \u001b[0mprint\u001b[0m\u001b[0;34m(\u001b[0m\u001b[0mM\u001b[0m\u001b[0;34m*\u001b[0m\u001b[0mN\u001b[0m\u001b[0;34m)\u001b[0m\u001b[0;34m\u001b[0m\u001b[0;34m\u001b[0m\u001b[0m\n\u001b[0;32m----> 2\u001b[0;31m \u001b[0mM\u001b[0m\u001b[0;34m*\u001b[0m\u001b[0;34m(\u001b[0m\u001b[0mN\u001b[0m\u001b[0;34m.\u001b[0m\u001b[0mT\u001b[0m\u001b[0;34m)\u001b[0m\u001b[0;34m\u001b[0m\u001b[0;34m\u001b[0m\u001b[0m\n\u001b[0m",
            "\u001b[0;31mValueError\u001b[0m: operands could not be broadcast together with shapes (2,6) (6,2) "
          ]
        }
      ]
    },
    {
      "cell_type": "markdown",
      "source": [
        "You should understand why this isn't the correct matrix multiplication. This is elementwise multiplication. Write a function that will compute matrix multiplication on two matrices P (size m x n) and Q (size n x r). *(6 points)*\n",
        "\n",
        "Hint: You will need to have Python record the dimensions of both P and Q and then either build the matrix by building arrays, or build a zero matrix and update the entries one at a time.\n",
        "\n",
        "*Your function should utilize an earlier function you created instead of a built-in function.*"
      ],
      "metadata": {
        "id": "ELcfcx_fONj5"
      }
    },
    {
      "cell_type": "code",
      "source": [
        "def matmult(P,Q):\n",
        "  (r,c)=P.shape\n",
        "  (k,l)=Q.shape\n",
        "  mat=np.zeros((r,l))\n",
        "  for i in range(r):\n",
        "    for w in range(l):\n",
        "      mat[i,w]=dots(P[i,:],Q[:,w])\n",
        "  return mat"
      ],
      "metadata": {
        "id": "x-sR4GIGOiFV"
      },
      "execution_count": null,
      "outputs": []
    },
    {
      "cell_type": "markdown",
      "source": [
        "If you try and plug M and N into your function, it will not work (look at the dimensions). Is there an operation you can do to N so that you get a new matrix T that you could do the matrix multiplication of with M? *(2 points)*\n",
        "\n",
        "Hint: Look at earlier parts!"
      ],
      "metadata": {
        "id": "IHmXB4coWB43"
      }
    },
    {
      "cell_type": "code",
      "source": [
        "op=N.T #transpose the N matrix or the M matrix\n",
        "ne=M.T"
      ],
      "metadata": {
        "id": "UXUz4wL8W9FT"
      },
      "execution_count": null,
      "outputs": []
    },
    {
      "cell_type": "markdown",
      "source": [
        "Verify that your function works by computing the prebuilt function dot (similar to what we did with vectors). *(0.5 points)*"
      ],
      "metadata": {
        "id": "SUr09XwqW_yn"
      }
    },
    {
      "cell_type": "code",
      "source": [
        "print(matmult(M,op))\n",
        "print(matmult(ne,N))"
      ],
      "metadata": {
        "id": "taiRWcclXHjW",
        "colab": {
          "base_uri": "https://localhost:8080/"
        },
        "outputId": "c773ddea-cb42-4d4d-edc9-b04fd5a85b36"
      },
      "execution_count": null,
      "outputs": [
        {
          "output_type": "stream",
          "name": "stdout",
          "text": [
            "[[18.33333333 35.66666667]\n",
            " [20.          7.        ]]\n",
            "[[  6.          11.          16.          21.          34.\n",
            "   41.        ]\n",
            " [  0.          -2.          -4.          -6.           8.\n",
            "   10.        ]\n",
            " [  7.           9.          11.          13.          55.\n",
            "   67.        ]\n",
            " [ -9.         -15.         -21.         -27.         -57.\n",
            "  -69.        ]\n",
            " [  0.66666667   1.33333333   2.           2.66666667   3.33333333\n",
            "    4.        ]\n",
            " [  4.           6.           8.          10.          28.\n",
            "   34.        ]]\n"
          ]
        }
      ]
    },
    {
      "cell_type": "markdown",
      "source": [
        "# 3: Arrays *(5 Points)*"
      ],
      "metadata": {
        "id": "-F8-5DiSZa_E"
      }
    },
    {
      "cell_type": "markdown",
      "source": [
        "There are a few special arrays that are often made adn so have functions to make them: an array of all zeroes, an array of all ones, and an empty array. The `zeros`, `eye`, and `empty` functions create the desired array."
      ],
      "metadata": {
        "id": "IVtVaOIOZ1bB"
      }
    },
    {
      "cell_type": "code",
      "source": [
        "np.zeros(5)"
      ],
      "metadata": {
        "colab": {
          "base_uri": "https://localhost:8080/"
        },
        "id": "UDBY8RtoaNaR",
        "outputId": "b71af51f-e90c-458b-bb83-dd21d13de956"
      },
      "execution_count": null,
      "outputs": [
        {
          "output_type": "execute_result",
          "data": {
            "text/plain": [
              "array([0., 0., 0., 0., 0.])"
            ]
          },
          "metadata": {},
          "execution_count": 87
        }
      ]
    },
    {
      "cell_type": "markdown",
      "source": [
        "Write a script of code that constructs a matrix where the number of rows is a random number between 4 and 8 and the code asks the user for the number of columns of the matrix (between 2 and 9).\n",
        "\n",
        "The line of code should create 2 matrices, one where every other row is all ones and one where every other columns is all ones. The rest of the elements should be zero. The result should return the sum of these two matrices. *(5 points)*"
      ],
      "metadata": {
        "id": "7r8DPeFfaSr8"
      }
    },
    {
      "cell_type": "code",
      "source": [
        "import random as rand\n",
        "\n",
        "def numb(ws):\n",
        "  if ws>=2 and ws<=9:\n",
        "    rander=rand.randint(4,8)\n",
        "    mtz=np.zeros((rander,ws))\n",
        "    mta=np.zeros((rander,ws))\n",
        "    (bp,zw)=mtz.shape\n",
        "    tal=1\n",
        "    tad=1\n",
        "    for i in range(0,bp,2):\n",
        "      mtz[i,:]=1\n",
        "    for w in range(0,zw,2):\n",
        "      mta[:,w]=1\n",
        "    maltz=mtz+mta\n",
        "  else:\n",
        "    maltz=\"Incompatable answer\"\n",
        "  return maltz\n",
        "\n",
        "ind = int(input(\"choose a number between 2 and 9: \"))\n",
        "\n",
        "print(numb(ind))"
      ],
      "metadata": {
        "id": "oCf15cVla2dd",
        "colab": {
          "base_uri": "https://localhost:8080/"
        },
        "outputId": "8c2cad4b-c51e-43d5-b54d-7f304ad11941"
      },
      "execution_count": null,
      "outputs": [
        {
          "output_type": "stream",
          "name": "stdout",
          "text": [
            "choose a number between 2 and 9: 9\n",
            "[[2. 1. 2. 1. 2. 1. 2. 1. 2.]\n",
            " [1. 0. 1. 0. 1. 0. 1. 0. 1.]\n",
            " [2. 1. 2. 1. 2. 1. 2. 1. 2.]\n",
            " [1. 0. 1. 0. 1. 0. 1. 0. 1.]\n",
            " [2. 1. 2. 1. 2. 1. 2. 1. 2.]\n",
            " [1. 0. 1. 0. 1. 0. 1. 0. 1.]\n",
            " [2. 1. 2. 1. 2. 1. 2. 1. 2.]]\n"
          ]
        }
      ]
    }
  ]
}